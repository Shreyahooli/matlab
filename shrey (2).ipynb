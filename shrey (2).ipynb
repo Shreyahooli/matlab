{
 "cells": [
  {
   "cell_type": "code",
   "execution_count": null,
   "metadata": {},
   "outputs": [],
   "source": [
    "def find_min_max(numbers):\n",
    "    min_element=numbers[0]\n",
    "    max_element=numbers[0]\n",
    "    for num in numbers:\n",
    "        if num<min_element:\n",
    "            min_element=num\n",
    "        if num>max_element:\n",
    "            max_element=num\n",
    "    return min_element,max_element\n",
    "numbers=[3,5,1,9,2,8]\n",
    "min_element,max_element=find_min_max(numbers)\n",
    "\n",
    "print(\"Minimum element:\",min_element)\n",
    "print(\"Maximum element:\",max_element)"
   ]
  }
 ],
 "metadata": {
  "language_info": {
   "name": "python"
  }
 },
 "nbformat": 4,
 "nbformat_minor": 2
}
